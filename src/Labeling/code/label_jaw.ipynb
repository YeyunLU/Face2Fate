{
 "cells": [
  {
   "cell_type": "code",
   "execution_count": 58,
   "metadata": {},
   "outputs": [
    {
     "name": "stdout",
     "output_type": "stream",
     "text": [
      "data num: 14187\n"
     ]
    }
   ],
   "source": [
    "import csv\n",
    "import numpy as np\n",
    "import matplotlib.pyplot as plt\n",
    "x = []\n",
    "y = []\n",
    "origin = []\n",
    "with open('jaw.csv') as csvfile:\n",
    "    readCSV = csv.reader(csvfile, delimiter=',')\n",
    "    for row in readCSV:\n",
    "        origin.append(row)\n",
    "        data = [int(d) for d in row[1:]]\n",
    "        n = int(len(data)/2)\n",
    "        x.append(data[:n])\n",
    "        y.append(data[n:])\n",
    "num = len(x)\n",
    "print(\"data num:\",num)        "
   ]
  },
  {
   "cell_type": "code",
   "execution_count": 177,
   "metadata": {},
   "outputs": [],
   "source": [
    "from math import atan2, degrees\n",
    "def cal_curve(x, y):\n",
    "    gx = np.gradient(x) # first derivatives\n",
    "    gy = np.gradient(y)\n",
    "    g2x = np.gradient(gx) #second derivatives\n",
    "    g2y = np.gradient(gy)\n",
    "    cur = np.abs(g2y) / np.power((np.sqrt(1 + np.power(gy,2))),1.5)\n",
    "    cur = -np.sort(-cur)\n",
    "    return cur[:2]"
   ]
  },
  {
   "cell_type": "code",
   "execution_count": 186,
   "metadata": {},
   "outputs": [],
   "source": [
    "def cal_angle(x, y):\n",
    "    degree = []\n",
    "    dx = x[8] - x[4]\n",
    "    dy = y[8] - y[4]\n",
    "    degree = degrees(atan2(dy,dx))*2\n",
    "    return degree          "
   ]
  },
  {
   "cell_type": "code",
   "execution_count": 192,
   "metadata": {},
   "outputs": [],
   "source": [
    "angles = []\n",
    "curs1 = []\n",
    "curs2 = []\n",
    "labels = []\n",
    "dys = []\n",
    "dxs = []\n",
    "square = 0\n",
    "oval = 0\n",
    "circle = 0\n",
    "triangle = 0\n",
    "for i in range(num):\n",
    "    rx = x[i]\n",
    "    ry = y[i]\n",
    "    cur1, cur2 = cal_curve(rx,ry)\n",
    "    angle = cal_angle(rx,ry)\n",
    "    curs1.append(cur1)\n",
    "    curs2.append(cur2)\n",
    "    angles.append(angle)\n",
    "    if cur2 > 0.5:\n",
    "        labels.append(\"square\")\n",
    "        square += 1\n",
    "    elif cur1 > 15:\n",
    "        labels.append(\"triangle\")\n",
    "        triangle += 1\n",
    "    elif angle > 80:\n",
    "        labels.append(\"circle\")\n",
    "        circle += 1\n",
    "    else:\n",
    "        labels.append(\"oval\")\n",
    "        oval += 1"
   ]
  },
  {
   "cell_type": "code",
   "execution_count": 189,
   "metadata": {},
   "outputs": [
    {
     "data": {
      "image/png": "[encoded data removed]",
      "text/plain": [
       "<Figure size 432x288 with 1 Axes>"
      ]
     },
     "metadata": {},
     "output_type": "display_data"
    }
   ],
   "source": [
    "plt.hist(curs1, bins=20)\n",
    "plt.show()"
   ]
  },
  {
   "cell_type": "code",
   "execution_count": 190,
   "metadata": {},
   "outputs": [
    {
     "data": {
      "image/png": "[encoded data removed]",
      "text/plain": [
       "<Figure size 432x288 with 1 Axes>"
      ]
     },
     "metadata": {},
     "output_type": "display_data"
    }
   ],
   "source": [
    "plt.hist(curs2, bins=20)\n",
    "plt.show()"
   ]
  },
  {
   "cell_type": "code",
   "execution_count": 191,
   "metadata": {},
   "outputs": [
    {
     "data": {
      "image/png": "[encoded data removed]",
      "text/plain": [
       "<Figure size 432x288 with 1 Axes>"
      ]
     },
     "metadata": {},
     "output_type": "display_data"
    }
   ],
   "source": [
    "plt.hist(angles, bins=20)\n",
    "plt.show()"
   ]
  },
  {
   "cell_type": "code",
   "execution_count": 193,
   "metadata": {},
   "outputs": [
    {
     "name": "stdout",
     "output_type": "stream",
     "text": [
      "843\n",
      "2416\n",
      "2593\n",
      "8335\n"
     ]
    }
   ],
   "source": [
    "print(square)\n",
    "print(triangle)\n",
    "print(circle)\n",
    "print(oval)"
   ]
  },
  {
   "cell_type": "code",
   "execution_count": 182,
   "metadata": {},
   "outputs": [
    {
     "data": {
      "text/plain": [
       "Text(0,0.5,'cur2')"
      ]
     },
     "execution_count": 182,
     "metadata": {},
     "output_type": "execute_result"
    },
    {
     "data": {
      "image/png": "[encoded data removed]",
      "text/plain": [
       "<Figure size 432x288 with 1 Axes>"
      ]
     },
     "metadata": {},
     "output_type": "display_data"
    }
   ],
   "source": [
    "import matplotlib.pyplot as plt\n",
    "fig = plt.figure()\n",
    "plt.scatter(curs1,curs2)\n",
    "plt.xlabel('cur1')\n",
    "plt.ylabel('cur2')"
   ]
  },
  {
   "cell_type": "code",
   "execution_count": 194,
   "metadata": {},
   "outputs": [],
   "source": [
    "labels = np.asarray(labels).reshape((num,1))\n",
    "origin = np.asarray(origin).reshape((num,2*n+1))\n",
    "output = np.hstack((origin,labels))"
   ]
  },
  {
   "cell_type": "code",
   "execution_count": 195,
   "metadata": {},
   "outputs": [],
   "source": [
    "with open('jaw_labels.csv','w',encoding='utf8',newline='') as file:\n",
    "    wr = csv.writer(file) #, quoting=csv.QUOTE_ALL)\n",
    "    wr.writerows(output)"
   ]
  }
 ],
 "metadata": {
  "kernelspec": {
   "display_name": "Python 3",
   "language": "python",
   "name": "python3"
  },
  "language_info": {
   "codemirror_mode": {
    "name": "ipython",
    "version": 3
   },
   "file_extension": ".py",
   "mimetype": "text/x-python",
   "name": "python",
   "nbconvert_exporter": "python",
   "pygments_lexer": "ipython3",
   "version": "3.7.5"
  }
 },
 "nbformat": 4,
 "nbformat_minor": 2
}
