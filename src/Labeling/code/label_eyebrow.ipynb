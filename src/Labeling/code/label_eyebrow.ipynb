{
 "cells": [
  {
   "cell_type": "code",
   "execution_count": 9,
   "metadata": {},
   "outputs": [
    {
     "name": "stdout",
     "output_type": "stream",
     "text": [
      "data num: 14187\n"
     ]
    }
   ],
   "source": [
    "import csv\n",
    "import numpy as np\n",
    "import matplotlib.pyplot as plt\n",
    "x = []\n",
    "y = []\n",
    "origin = []\n",
    "with open(\"eyebrow.csv\") as csvfile:\n",
    "    readCSV = csv.reader(csvfile, delimiter=',')\n",
    "    for row in readCSV:\n",
    "        origin.append(row)\n",
    "        data = [int(d) for d in row[1:]]\n",
    "        n = int(len(data)/2)\n",
    "        x.append(data[:n])\n",
    "        y.append(data[n:])\n",
    "num = len(x)\n",
    "print(\"data num:\",num)        "
   ]
  },
  {
   "cell_type": "code",
   "execution_count": 21,
   "metadata": {},
   "outputs": [],
   "source": [
    "from math import atan2, degrees\n",
    "def cal_angle(x, y):\n",
    "    dx = x[1]-x[0]\n",
    "    dy = y[1]-y[0]\n",
    "    d1 = degrees(atan2(dy,dx))\n",
    "    dx = x[1]-x[2]\n",
    "    dy = y[1]-y[2]\n",
    "    d2 = degrees(atan2(dy,dx))\n",
    "    return abs(d1-d2)"
   ]
  },
  {
   "cell_type": "code",
   "execution_count": 22,
   "metadata": {},
   "outputs": [],
   "source": [
    "angles1 = []\n",
    "angles2 = []\n",
    "labels = []\n",
    "dists=[]\n",
    "for i in range(num):\n",
    "    rx = x[i]\n",
    "    ry = y[i]\n",
    "    dists.append(rx[5]-rx[4])\n",
    "    angle1 = cal_angle(rx[0:3],ry[0:3])\n",
    "    angles1.append(angle1)\n",
    "    angle2 = cal_angle(rx[1:4],ry[1:4])\n",
    "    angles2.append(angle2)\n",
    "    if angle1<175:\n",
    "        labels.append(\"Arch\")\n",
    "    elif angle2<180:\n",
    "        labels.append(\"Straight\")\n",
    "    else:\n",
    "        labels.append(\"Circle\")    "
   ]
  },
  {
   "cell_type": "code",
   "execution_count": 23,
   "metadata": {},
   "outputs": [
    {
     "data": {
      "image/png": "[encoded data removed]",
      "text/plain": [
       "<Figure size 432x288 with 1 Axes>"
      ]
     },
     "metadata": {
      "needs_background": "light"
     },
     "output_type": "display_data"
    }
   ],
   "source": [
    "plt.hist(angles1, bins=40)\n",
    "plt.show()"
   ]
  },
  {
   "cell_type": "code",
   "execution_count": 24,
   "metadata": {},
   "outputs": [
    {
     "data": {
      "image/png": "[encoded data removed]",
      "text/plain": [
       "<Figure size 432x288 with 1 Axes>"
      ]
     },
     "metadata": {
      "needs_background": "light"
     },
     "output_type": "display_data"
    }
   ],
   "source": [
    "plt.hist(angles2, bins=40)\n",
    "plt.show()"
   ]
  },
  {
   "cell_type": "code",
   "execution_count": 25,
   "metadata": {},
   "outputs": [
    {
     "data": {
      "text/plain": [
       "Text(0, 0.5, 'angle2')"
      ]
     },
     "execution_count": 25,
     "metadata": {},
     "output_type": "execute_result"
    },
    {
     "data": {
      "image/png": "[encoded data removed]",
      "text/plain": [
       "<Figure size 432x288 with 1 Axes>"
      ]
     },
     "metadata": {
      "needs_background": "light"
     },
     "output_type": "display_data"
    }
   ],
   "source": [
    "# from mpl_toolkits.mplot3d import Axes3D\n",
    "import matplotlib.pyplot as plt\n",
    "fig = plt.figure()\n",
    "plt.scatter(angles1,angles2)\n",
    "plt.xlabel('angle1')\n",
    "plt.ylabel('angle2')"
   ]
  },
  {
   "cell_type": "code",
   "execution_count": 396,
   "metadata": {},
   "outputs": [],
   "source": [
    "labels = np.asarray(labels).reshape((num,1))\n",
    "origin = np.asarray(origin).reshape((num,2*n+1))\n",
    "output = np.hstack((origin,labels))"
   ]
  },
  {
   "cell_type": "code",
   "execution_count": 403,
   "metadata": {},
   "outputs": [
    {
     "name": "stdout",
     "output_type": "stream",
     "text": [
      "['18_0_0_20170103201308008.jpg.chip.jpg'\n",
      " '18_0_0_20170103201519511.jpg.chip.jpg'\n",
      " '18_0_0_20170105183259439.jpg.chip.jpg' ...\n",
      " '50_1_4_20170105173053477.jpg.chip.jpg'\n",
      " '50_1_4_20170117203355296.jpg.chip.jpg'\n",
      " '50_1_4_20170117204033496.jpg.chip.jpg']\n"
     ]
    }
   ],
   "source": [
    "print(output[:,0])"
   ]
  },
  {
   "cell_type": "code",
   "execution_count": 405,
   "metadata": {},
   "outputs": [],
   "source": [
    "with open('output.csv','w',encoding='utf8',newline='') as file:\n",
    "    wr = csv.writer(file) #, quoting=csv.QUOTE_ALL)\n",
    "    wr.writerows(output)"
   ]
  }
 ],
 "metadata": {
  "kernelspec": {
   "display_name": "Python 3",
   "language": "python",
   "name": "python3"
  },
  "language_info": {
   "codemirror_mode": {
    "name": "ipython",
    "version": 3
   },
   "file_extension": ".py",
   "mimetype": "text/x-python",
   "name": "python",
   "nbconvert_exporter": "python",
   "pygments_lexer": "ipython3",
   "version": "3.7.5"
  }
 },
 "nbformat": 4,
 "nbformat_minor": 2
}
