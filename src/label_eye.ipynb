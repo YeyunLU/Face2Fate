{
 "cells": [
  {
   "cell_type": "code",
   "execution_count": 1,
   "metadata": {},
   "outputs": [
    {
     "name": "stdout",
     "output_type": "stream",
     "text": [
      "data num: 14187\n"
     ]
    }
   ],
   "source": [
    "import csv\n",
    "import numpy as np\n",
    "import matplotlib.pyplot as plt\n",
    "x = []\n",
    "y = []\n",
    "origin = []\n",
    "with open('eye.csv') as csvfile:\n",
    "    readCSV = csv.reader(csvfile, delimiter=',')\n",
    "    for row in readCSV:\n",
    "        origin.append(row)\n",
    "        data = [int(d) for d in row[1:]]\n",
    "        n = int(len(data)/2)\n",
    "        x.append(data[:n])\n",
    "        y.append(data[n:])\n",
    "num = len(x)\n",
    "print(\"data num:\",num)        "
   ]
  },
  {
   "cell_type": "code",
   "execution_count": 32,
   "metadata": {},
   "outputs": [],
   "source": [
    "from math import atan2, degrees\n",
    "def cal_angle(x, y):\n",
    "    dx = x[1]-x[0]\n",
    "    dy = y[1]-y[0]\n",
    "    d1 = degrees(atan2(dy,dx))\n",
    "    dx = x[1]-x[2]\n",
    "    dy = y[1]-y[2]\n",
    "    d2 = degrees(atan2(dy,dx))\n",
    "    return d1+d2"
   ]
  },
  {
   "cell_type": "code",
   "execution_count": 79,
   "metadata": {},
   "outputs": [],
   "source": [
    "angles1 = []\n",
    "angles2 = []\n",
    "labels = []\n",
    "dys = []\n",
    "dxs = []\n",
    "big = 0\n",
    "silt = 0\n",
    "small = 0\n",
    "for i in range(num):\n",
    "    rx = x[i]\n",
    "    ry = y[i]\n",
    "    dy = (ry[4]+ry[5]-ry[1]-ry[2])/2\n",
    "    dx = rx[3]-rx[0]\n",
    "    dxs.append(dx)\n",
    "    dys.append(dy)\n",
    "    if dy>23:\n",
    "        labels.append(\"big\")\n",
    "        big+=1\n",
    "    elif dx>70:\n",
    "        labels.append(\"silt\")\n",
    "        silt+=1\n",
    "    else:\n",
    "        labels.append(\"small\")    \n",
    "        small+=1"
   ]
  },
  {
   "cell_type": "code",
   "execution_count": 65,
   "metadata": {},
   "outputs": [
    {
     "data": {
      "image/png": "[encoded data removed]",
      "text/plain": [
       "<Figure size 432x288 with 1 Axes>"
      ]
     },
     "metadata": {},
     "output_type": "display_data"
    }
   ],
   "source": [
    "plt.hist(dxs, bins=10)\n",
    "plt.show()"
   ]
  },
  {
   "cell_type": "code",
   "execution_count": 66,
   "metadata": {},
   "outputs": [
    {
     "data": {
      "image/png": "[encoded data removed]",
      "text/plain": [
       "<Figure size 432x288 with 1 Axes>"
      ]
     },
     "metadata": {},
     "output_type": "display_data"
    }
   ],
   "source": [
    "plt.hist(dys, bins=40)\n",
    "plt.show()"
   ]
  },
  {
   "cell_type": "code",
   "execution_count": 75,
   "metadata": {},
   "outputs": [
    {
     "data": {
      "text/plain": [
       "Text(0,0.5,'dy')"
      ]
     },
     "execution_count": 75,
     "metadata": {},
     "output_type": "execute_result"
    },
    {
     "data": {
      "image/png": "[encoded data removed]",
      "text/plain": [
       "<Figure size 432x288 with 1 Axes>"
      ]
     },
     "metadata": {},
     "output_type": "display_data"
    }
   ],
   "source": [
    "# from mpl_toolkits.mplot3d import Axes3D\n",
    "import matplotlib.pyplot as plt\n",
    "fig = plt.figure()\n",
    "plt.scatter(dxs,dys)\n",
    "plt.xlabel('dx')\n",
    "plt.ylabel('dy')"
   ]
  },
  {
   "cell_type": "code",
   "execution_count": 82,
   "metadata": {},
   "outputs": [],
   "source": [
    "labels = np.asarray(labels).reshape((num,1))\n",
    "origin = np.asarray(origin).reshape((num,2*n+1))\n",
    "output = np.hstack((origin,labels))"
   ]
  },
  {
   "cell_type": "code",
   "execution_count": 83,
   "metadata": {},
   "outputs": [],
   "source": [
    "with open('eye_labels.csv','w',encoding='utf8',newline='') as file:\n",
    "    wr = csv.writer(file) #, quoting=csv.QUOTE_ALL)\n",
    "    wr.writerows(output)"
   ]
  }
 ],
 "metadata": {
  "kernelspec": {
   "display_name": "Python 3",
   "language": "python",
   "name": "python3"
  },
  "language_info": {
   "codemirror_mode": {
    "name": "ipython",
    "version": 3
   },
   "file_extension": ".py",
   "mimetype": "text/x-python",
   "name": "python",
   "nbconvert_exporter": "python",
   "pygments_lexer": "ipython3",
   "version": "3.7.1"
  }
 },
 "nbformat": 4,
 "nbformat_minor": 2
}
